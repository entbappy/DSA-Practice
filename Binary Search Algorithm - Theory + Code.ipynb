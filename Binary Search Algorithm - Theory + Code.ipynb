{
 "cells": [
  {
   "cell_type": "markdown",
   "id": "7aa51ed7",
   "metadata": {},
   "source": [
    "### Simple : Consider your array is already sorted"
   ]
  },
  {
   "cell_type": "code",
   "execution_count": 25,
   "id": "2a91d32f",
   "metadata": {},
   "outputs": [],
   "source": [
    "class BinarySearch:\n",
    "    \n",
    "    def binarySearch(self, arr:list, target:int):\n",
    "        '''\n",
    "        return the index\n",
    "        return -1 if doesn't exist\n",
    "        '''\n",
    "        start = 0\n",
    "        end = len(arr) -1 \n",
    "        \n",
    "        while(start <= end):\n",
    "            #find the middle element\n",
    "#             mid = (start + end) / 2    # this can be also applied\n",
    "            mid = int(start + (end - start) / 2)  #best formula\n",
    "            \n",
    "            if target < arr[mid]:\n",
    "                end = mid - 1\n",
    "            elif target > arr[mid]:\n",
    "                start = mid + 1\n",
    "            else:\n",
    "                return mid\n",
    "        \n",
    "        return -1\n",
    "            \n",
    "       "
   ]
  },
  {
   "cell_type": "code",
   "execution_count": 31,
   "id": "d7e1bc8a",
   "metadata": {},
   "outputs": [
    {
     "data": {
      "text/plain": [
       "1"
      ]
     },
     "execution_count": 31,
     "metadata": {},
     "output_type": "execute_result"
    }
   ],
   "source": [
    "arr = [-18, -12, -4, 0, 2, 3, 4, 15, 16, 18, 22, 45, 89]\n",
    "target = -12\n",
    "\n",
    "bs = BinarySearch()\n",
    "bs.binarySearch(arr, target)"
   ]
  },
  {
   "cell_type": "code",
   "execution_count": null,
   "id": "b1efc95e",
   "metadata": {},
   "outputs": [],
   "source": []
  }
 ],
 "metadata": {
  "kernelspec": {
   "display_name": "Python 3 (ipykernel)",
   "language": "python",
   "name": "python3"
  },
  "language_info": {
   "codemirror_mode": {
    "name": "ipython",
    "version": 3
   },
   "file_extension": ".py",
   "mimetype": "text/x-python",
   "name": "python",
   "nbconvert_exporter": "python",
   "pygments_lexer": "ipython3",
   "version": "3.9.12"
  }
 },
 "nbformat": 4,
 "nbformat_minor": 5
}
