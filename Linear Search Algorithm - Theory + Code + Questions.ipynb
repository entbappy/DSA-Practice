{
 "cells": [
  {
   "cell_type": "markdown",
   "id": "65e43515",
   "metadata": {},
   "source": [
    "#### Search In Number"
   ]
  },
  {
   "cell_type": "code",
   "execution_count": 85,
   "id": "c96eee07",
   "metadata": {},
   "outputs": [],
   "source": [
    "def linearSearch(arr:list, target:int):\n",
    "    if len(arr) == 0:\n",
    "        return -1\n",
    "    \n",
    "    for i in range(len(arr)):\n",
    "        if arr[i] == target:\n",
    "            return i\n",
    "    return -1\n",
    "            "
   ]
  },
  {
   "cell_type": "code",
   "execution_count": 84,
   "id": "de980199",
   "metadata": {},
   "outputs": [
    {
     "name": "stdout",
     "output_type": "stream",
     "text": [
      "1\n"
     ]
    }
   ],
   "source": [
    "arr = [1,2,3,4,5]\n",
    "target = 2\n",
    "\n",
    "print(linearSearch(arr, target))"
   ]
  },
  {
   "cell_type": "markdown",
   "id": "fedcb949",
   "metadata": {},
   "source": [
    "#### Search In String\n"
   ]
  },
  {
   "cell_type": "code",
   "execution_count": 3,
   "id": "6ff45db1",
   "metadata": {},
   "outputs": [],
   "source": [
    "def searchString(strs:str, target: str):\n",
    "    if len(strs) == 0:\n",
    "        return -1\n",
    "    \n",
    "    for i in range(len(strs)):\n",
    "        if strs[i] == target:\n",
    "            return i\n",
    "    return -1"
   ]
  },
  {
   "cell_type": "code",
   "execution_count": 5,
   "id": "241bd072",
   "metadata": {},
   "outputs": [
    {
     "name": "stdout",
     "output_type": "stream",
     "text": [
      "2\n"
     ]
    }
   ],
   "source": [
    "strs = \"Bappy\"\n",
    "target = 'p'\n",
    "\n",
    "print(searchString(strs, target))"
   ]
  },
  {
   "cell_type": "markdown",
   "id": "90b6a477",
   "metadata": {},
   "source": [
    "### Find min number"
   ]
  },
  {
   "cell_type": "code",
   "execution_count": 32,
   "id": "45b44fc9",
   "metadata": {},
   "outputs": [],
   "source": [
    "def findMin(arr:list):\n",
    "    if len(arr) == 0:\n",
    "        print(\"Your array is empty\")\n",
    "        return None\n",
    "    \n",
    "    min_num = arr[0]\n",
    "    \n",
    "    for i in arr:\n",
    "        if i < min_num:\n",
    "            min_num = i\n",
    "            \n",
    "    return min_num"
   ]
  },
  {
   "cell_type": "code",
   "execution_count": 33,
   "id": "0f71c8f1",
   "metadata": {},
   "outputs": [
    {
     "name": "stdout",
     "output_type": "stream",
     "text": [
      "-100\n"
     ]
    }
   ],
   "source": [
    "arr = [1,2,3,-100,4,5,-5]\n",
    "\n",
    "print(findMin(arr))"
   ]
  },
  {
   "cell_type": "markdown",
   "id": "59d09ac6",
   "metadata": {},
   "source": [
    "### Search in 2D array"
   ]
  },
  {
   "cell_type": "code",
   "execution_count": 47,
   "id": "4be2392f",
   "metadata": {},
   "outputs": [],
   "source": [
    "def serachElement(arr:list, target:int):\n",
    "    if len(arr) == 0:\n",
    "        return -1\n",
    "    \n",
    "    for row in range(len(arr)):\n",
    "        for col in range(len(arr[row])):\n",
    "            if arr[row][col] == target:\n",
    "                return [row,col]\n",
    "    return -1\n",
    "    "
   ]
  },
  {
   "cell_type": "code",
   "execution_count": 49,
   "id": "bb33cb85",
   "metadata": {},
   "outputs": [
    {
     "name": "stdout",
     "output_type": "stream",
     "text": [
      "[0, 2]\n"
     ]
    }
   ],
   "source": [
    "arr = [[1,2,3],[4,5,6,56,98],[6,7,8,9]]\n",
    "target = 3\n",
    "\n",
    "print(serachElement(arr, target))\n"
   ]
  },
  {
   "cell_type": "code",
   "execution_count": 55,
   "id": "8191f1ca",
   "metadata": {},
   "outputs": [
    {
     "data": {
      "text/plain": [
       "0"
      ]
     },
     "execution_count": 55,
     "metadata": {},
     "output_type": "execute_result"
    }
   ],
   "source": [
    "8%2"
   ]
  },
  {
   "cell_type": "code",
   "execution_count": 59,
   "id": "fc8c2ae9",
   "metadata": {},
   "outputs": [
    {
     "data": {
      "text/plain": [
       "176.4"
      ]
     },
     "execution_count": 59,
     "metadata": {},
     "output_type": "execute_result"
    }
   ],
   "source": [
    "1764/10"
   ]
  },
  {
   "cell_type": "code",
   "execution_count": 60,
   "id": "1afbfe3a",
   "metadata": {},
   "outputs": [
    {
     "data": {
      "text/plain": [
       "17.64"
      ]
     },
     "execution_count": 60,
     "metadata": {},
     "output_type": "execute_result"
    }
   ],
   "source": [
    "176.4/10"
   ]
  },
  {
   "cell_type": "code",
   "execution_count": 61,
   "id": "8dac177f",
   "metadata": {},
   "outputs": [
    {
     "data": {
      "text/plain": [
       "1.764"
      ]
     },
     "execution_count": 61,
     "metadata": {},
     "output_type": "execute_result"
    }
   ],
   "source": [
    "17.64/10"
   ]
  },
  {
   "cell_type": "code",
   "execution_count": 62,
   "id": "d052ff0a",
   "metadata": {},
   "outputs": [
    {
     "data": {
      "text/plain": [
       "0.1764"
      ]
     },
     "execution_count": 62,
     "metadata": {},
     "output_type": "execute_result"
    }
   ],
   "source": [
    "1.764/10"
   ]
  },
  {
   "cell_type": "markdown",
   "id": "3ebcfa84",
   "metadata": {},
   "source": [
    "#### Leetcode problem\n",
    "1295. Find Numbers with Even Number of Digits\n",
    "[Link](https://leetcode.com/problems/find-numbers-with-even-number-of-digits/)"
   ]
  },
  {
   "cell_type": "code",
   "execution_count": 12,
   "id": "ae55453a",
   "metadata": {},
   "outputs": [],
   "source": [
    "class Solution:\n",
    "    def findNumbers(self, nums: list[int]) -> int:\n",
    "        no_even = 0\n",
    "        for i in nums:\n",
    "            count = self.count_num2(i)\n",
    "            if count%2==0:\n",
    "                no_even += 1\n",
    "        return no_even\n",
    "        \n",
    "    \n",
    "    def count_num(self, num:int) -> int:\n",
    "        count = 0\n",
    "        \n",
    "        #if number is negetive converting it to possitive\n",
    "        if num <0:\n",
    "            num = num * -1\n",
    "        \n",
    "        if num == 0:\n",
    "            return 1\n",
    "        \n",
    "        while num > 0:\n",
    "            count += 1\n",
    "            num = int(num/10)\n",
    "        return count\n",
    "    \n",
    "    def count_num2(self, num:int) -> int:\n",
    "        count = 0\n",
    "        \n",
    "        #if number is negetive converting it to possitive\n",
    "        if num <0:\n",
    "            num = num * -1\n",
    "        \n",
    "        if num == 0:\n",
    "            return 1\n",
    "  \n",
    "        return int(math.log10(num) + 1)\n",
    "        "
   ]
  },
  {
   "cell_type": "code",
   "execution_count": 14,
   "id": "3887df73",
   "metadata": {},
   "outputs": [
    {
     "data": {
      "text/plain": [
       "4"
      ]
     },
     "execution_count": 14,
     "metadata": {},
     "output_type": "execute_result"
    }
   ],
   "source": [
    "nums = [12,345,2,6,-7896,16,0,45454545]\n",
    "\n",
    "obj = Solution()\n",
    "obj.findNumbers(nums)"
   ]
  },
  {
   "cell_type": "markdown",
   "id": "5c3bb80f",
   "metadata": {},
   "source": [
    "### 1672. Richest Customer Wealth\n",
    "https://leetcode.com/problems/richest-customer-wealth/"
   ]
  },
  {
   "cell_type": "code",
   "execution_count": 42,
   "id": "a85eee09",
   "metadata": {},
   "outputs": [],
   "source": [
    "class Solution:\n",
    "    def maximumWealth(self, accounts: list[list[int]]) -> int:\n",
    "        wealth = 0\n",
    "        for person in accounts:\n",
    "            count = 0\n",
    "            for money in person:\n",
    "                count = count + money\n",
    "                \n",
    "            if count>wealth:\n",
    "                wealth = count\n",
    "\n",
    "        return wealth\n",
    "                \n",
    "                "
   ]
  },
  {
   "cell_type": "code",
   "execution_count": 47,
   "id": "035f137e",
   "metadata": {},
   "outputs": [
    {
     "data": {
      "text/plain": [
       "16"
      ]
     },
     "execution_count": 47,
     "metadata": {},
     "output_type": "execute_result"
    }
   ],
   "source": [
    "a = [[1,2,3],[3,2,11]]\n",
    "obj = Solution()\n",
    "obj.maximumWealth(a)"
   ]
  },
  {
   "cell_type": "code",
   "execution_count": null,
   "id": "605458f0",
   "metadata": {},
   "outputs": [],
   "source": []
  }
 ],
 "metadata": {
  "kernelspec": {
   "display_name": "Python 3 (ipykernel)",
   "language": "python",
   "name": "python3"
  },
  "language_info": {
   "codemirror_mode": {
    "name": "ipython",
    "version": 3
   },
   "file_extension": ".py",
   "mimetype": "text/x-python",
   "name": "python",
   "nbconvert_exporter": "python",
   "pygments_lexer": "ipython3",
   "version": "3.9.12"
  }
 },
 "nbformat": 4,
 "nbformat_minor": 5
}
